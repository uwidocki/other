{
 "cells": [
  {
   "cell_type": "markdown",
   "metadata": {},
   "source": [
    "## RedCap data statistics\n",
    "This notebook examines what clinical data acquired from Epic tells us about the patients getting cholecystectomies"
   ]
  },
  {
   "cell_type": "code",
   "execution_count": 81,
   "metadata": {},
   "outputs": [],
   "source": [
    "# packages to import\n",
    "\n",
    "import csv\n",
    "import numpy as np\n",
    "import pandas as pd\n",
    "\n",
    "import matplotlib.pyplot as plt\n",
    "import seaborn as sns; sns.set()\n",
    "from sklearn.mixture import GaussianMixture as GMM"
   ]
  },
  {
   "cell_type": "code",
   "execution_count": 82,
   "metadata": {},
   "outputs": [],
   "source": [
    "# path to the data downloaded 12/30/2019\n",
    "redcap_path = '/Users/ursulawidocki/Desktop/SAiiL/ptData/ArtificialIntelligen_DATA_2019-12-30_1351.csv'"
   ]
  },
  {
   "cell_type": "code",
   "execution_count": 83,
   "metadata": {},
   "outputs": [],
   "source": [
    "# reads in the data\n",
    "redcap_data = pd.read_csv(redcap_path)"
   ]
  },
  {
   "cell_type": "markdown",
   "metadata": {},
   "source": [
    "#### Grouping variables\n",
    "\n",
    "Obtained indeces of the columns in case this will be more convenient later on\n",
    "Used indeces to collect column names"
   ]
  },
  {
   "cell_type": "code",
   "execution_count": 91,
   "metadata": {},
   "outputs": [],
   "source": [
    "# makes list of all variables\n",
    "\n",
    "all_var = list(redcap_data.columns)\n",
    "all_var_ind = list(range(len(all_var)))\n",
    "\n",
    "#print(all_var)"
   ]
  },
  {
   "cell_type": "code",
   "execution_count": 92,
   "metadata": {},
   "outputs": [],
   "source": [
    "# get column index of demographic variables\n",
    "# via speculation\n",
    "\n",
    "other_ind = [0, 1, 2, 3, 4, 5, 6, 7, 8, 9, 29, 30, 33, 34, 35, 36, 37, 38, 39, 40, 41, 42, 43, 44, 45, 46, 47, 48, 49, 50, 51]\n",
    "\n",
    "other = list()\n",
    "for ind in other_ind:\n",
    "    other.append(all_var[ind])\n"
   ]
  },
  {
   "cell_type": "code",
   "execution_count": 93,
   "metadata": {},
   "outputs": [
    {
     "name": "stdout",
     "output_type": "stream",
     "text": [
      "['record_id', 'mrn', 'gender', 'date_of_surgery', 'indication', 'age', 'race', 'race_other', 'ethnicity', 'demographics_complete', 'epic_risk', 'bmi', 'diabetes_mellitus', 'insulin_use', 'smoker', 'alc', 'dyspnea', 'dyspnea_severity', 'emergency', 'functional_health', 'vent_dependent', 'copd', 'ascites', 'chf', 'hypertension', 'renal_fail', 'dialysis', 'dis_cancer', 'open_wound', 'steroid_use', 'weight_loss']\n"
     ]
    }
   ],
   "source": [
    "print(other)"
   ]
  },
  {
   "cell_type": "code",
   "execution_count": 94,
   "metadata": {},
   "outputs": [],
   "source": [
    "# goes through list of all var and gets index of all var with \"pre\" in var name\n",
    "# a pre-operative variable is defined as having \"pre\" in the variable name\n",
    "\n",
    "all_pre_ind = list() # index of column\n",
    "for name in all_var:\n",
    "    if \"pre\" in name:\n",
    "        all_pre_ind.append(all_var.index(name))\n",
    "        \n",
    "all_preop = list()\n",
    "for ind in all_pre_ind:\n",
    "    all_preop.append(all_var[ind])"
   ]
  },
  {
   "cell_type": "code",
   "execution_count": 96,
   "metadata": {},
   "outputs": [],
   "source": [
    "# goes through list of all var and gets index of all var with \"post\" in var name\n",
    "# a post-operative variable is defined as having \"post\" in the var name\n",
    "\n",
    "all_post_ind = list() # index of column\n",
    "for name in all_var:\n",
    "    if \"post\" in name:\n",
    "        all_post_ind.append(all_var.index(name))\n",
    "        \n",
    "all_postop = list()\n",
    "for ind in all_post_ind:\n",
    "    all_postop.append(all_var[ind])\n",
    "    "
   ]
  },
  {
   "cell_type": "markdown",
   "metadata": {},
   "source": [
    "################## clean this vvvv"
   ]
  },
  {
   "cell_type": "code",
   "execution_count": 108,
   "metadata": {},
   "outputs": [],
   "source": [
    "# an intra-operative variable is currently defined as all other variables\n",
    "# how to correctly define this? \n",
    "\n",
    "all_intra_ind = set(all_var_ind) - set(other_ind) - set(all_pre_ind) - set(all_post_ind)\n",
    "\n",
    "all_intra = list()\n",
    "for ind in all_intra_ind:\n",
    "    all_intra.append(all_var[ind])"
   ]
  },
  {
   "cell_type": "markdown",
   "metadata": {},
   "source": [
    "Looking at emptiness/ missingness"
   ]
  },
  {
   "cell_type": "code",
   "execution_count": null,
   "metadata": {},
   "outputs": [],
   "source": []
  },
  {
   "cell_type": "markdown",
   "metadata": {},
   "source": [
    "#### Descriptive statistics"
   ]
  },
  {
   "cell_type": "code",
   "execution_count": null,
   "metadata": {},
   "outputs": [],
   "source": []
  },
  {
   "cell_type": "markdown",
   "metadata": {},
   "source": [
    "#### Assessing significance in variables: clinical vs statistical significance\n",
    "\n",
    "Like a PheWAS\n",
    "\n",
    "However, to for the contingency tables for the hypothesis tests, a genetic mutation occurs or does not. What would be equivalent in this case? theshold?"
   ]
  },
  {
   "cell_type": "markdown",
   "metadata": {},
   "source": [
    "#### PCA"
   ]
  },
  {
   "cell_type": "code",
   "execution_count": 77,
   "metadata": {},
   "outputs": [
    {
     "name": "stdout",
     "output_type": "stream",
     "text": [
      "[['2' 3355853 1.0 ... nan nan 0]\n",
      " ['3' 3397510 1.0 ... nan nan 0]\n",
      " ['4' 2852409 0.0 ... nan nan 0]\n",
      " ['5' 4018621 1.0 ... nan nan 0]]\n"
     ]
    }
   ],
   "source": [
    "redcap_mat = np.matrix(redcap_data) \n",
    "\n",
    "# don't need to transpose since rows at pt and cols are var\n",
    "print(redcap_mat[1:5,])\n",
    "\n",
    "# get size of the matix\n",
    "\n",
    "pca = PCA(n_components = min(len(indivList), len(geneList)))"
   ]
  },
  {
   "cell_type": "markdown",
   "metadata": {},
   "source": [
    "#### Clustering\n",
    "just to see what happens\n",
    "\n",
    "Expectation-maximization using Gaussian mixture models\n",
    "       \n",
    "  assuming things are normally distributed for now"
   ]
  },
  {
   "cell_type": "raw",
   "metadata": {},
   "source": [
    "gmm_model3 = GMM(n_components = 3).fit(reducedGenes)\n",
    "gmm_fit3 = gmm_model3.predict(reducedGenes)\n",
    "plt.scatter(reducedGenes[:,0], reducedGenes[:,1], c = gmm_fit3, s=40, cmap='viridis')\n",
    "plt.title('GMM: k=3')"
   ]
  },
  {
   "cell_type": "markdown",
   "metadata": {},
   "source": [
    "#### Inference\n",
    "\n",
    "population of interest: those who get cholc\n",
    "\n",
    "sample: data from RPDR and RedCap\n",
    "\n",
    "First use this a la PheWAS to assess if clinical variables are statistically significant\n",
    "\n",
    "^\n",
    "\n",
    "|  log transform of p-value\n",
    "\n",
    "|\n",
    "        \n",
    "|-------------------------------------------------------"
   ]
  },
  {
   "cell_type": "code",
   "execution_count": null,
   "metadata": {},
   "outputs": [],
   "source": []
  }
 ],
 "metadata": {
  "kernelspec": {
   "display_name": "Python 3",
   "language": "python",
   "name": "python3"
  },
  "language_info": {
   "codemirror_mode": {
    "name": "ipython",
    "version": 3
   },
   "file_extension": ".py",
   "mimetype": "text/x-python",
   "name": "python",
   "nbconvert_exporter": "python",
   "pygments_lexer": "ipython3",
   "version": "3.7.4"
  }
 },
 "nbformat": 4,
 "nbformat_minor": 2
}
